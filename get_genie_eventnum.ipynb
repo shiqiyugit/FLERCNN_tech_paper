{
 "cells": [
  {
   "cell_type": "code",
   "execution_count": 1,
   "metadata": {},
   "outputs": [],
   "source": [
    "import numpy as np\n",
    "import h5py"
   ]
  },
  {
   "cell_type": "code",
   "execution_count": 2,
   "metadata": {},
   "outputs": [],
   "source": [
    "f_retro = h5py.File(\"oscNext_pisa_genie_0000_v02.02.hdf5\",\"r\")\n",
    "f_val = h5py.File(\"/mnt/research/IceCube/FLERCNN/tech_paper/hdf5/oscnext_santaleera_genie_0000.hdf5\",\"r\")\n",
    "f_flercnn = h5py.File(\"oscNext_pisa_genie_0000_flercnn.hdf5\",\"r\")"
   ]
  },
  {
   "cell_type": "code",
   "execution_count": 3,
   "metadata": {},
   "outputs": [],
   "source": [
    "def find_common_number3(arr1, arr2,arr3):\n",
    "    a1 = np.array(arr1)\n",
    "    a2 = np.array(arr2)\n",
    "    a3 = np.array(arr3)\n",
    "    \n",
    "    set1 = set(a1)\n",
    "    set2 = set(a2)\n",
    "    set3 = set(a3)\n",
    "    \n",
    "    common_numbers = set1.intersection(set2).intersection(set3)\n",
    "    #common_numbers = set1.intersection(set2)\n",
    "    \n",
    "    return list(common_numbers)"
   ]
  },
  {
   "cell_type": "code",
   "execution_count": 4,
   "metadata": {},
   "outputs": [],
   "source": [
    "def create_mask(array, values):\n",
    "    indices = np.where(np.isin(array, values))[0]\n",
    "    mask = np.zeros_like(array, dtype=bool)\n",
    "    mask[indices] = True\n",
    "    return mask"
   ]
  },
  {
   "cell_type": "code",
   "execution_count": null,
   "metadata": {},
   "outputs": [],
   "source": [
    "f_flercn"
   ]
  },
  {
   "cell_type": "code",
   "execution_count": 142,
   "metadata": {},
   "outputs": [],
   "source": [
    "recos = [\"flercnn\",\"retro\",\"val\"]\n",
    "#keys = [\"event_id\",\"sub_run_id\"]\n",
    "keys = [\"energy\",\"dir.coszen\"]\n",
    "data = {}\n",
    "particle = \"numu_cc\"\n",
    "data[particle] = {}\n",
    "branch = \"MCInIcePrimary.\" #\"I3EventHeader.\n",
    "\n",
    "for r in recos:\n",
    "    data[particle][r] = {}\n",
    "\n",
    "for k in keys:\n",
    "    data[particle][recos[0]][k] = f_flercnn[particle][branch+k]\n",
    "    data[particle][recos[1]][k] = f_retro[particle][branch+k]\n",
    "    data[particle][recos[2]][k] = f_val[particle][branch+k]\n",
    "    \n",
    "for r in recos:\n",
    "    trans = np.vstack((data[particle][r][keys[0]],\n",
    "                            data[particle][r][keys[1]]))\n",
    "    data[particle][r][\"unique_id\"] = trans[0,:]*trans[1,:]\n",
    "    assert(len(set(np.array(data[particle][r][\"unique_id\"])))==len(data[particle][r][\"unique_id\"])) # Checks to make sure each event has a uniqueID\n",
    "\n",
    "common_numbers3 = find_common_number3(fler,ret,val)"
   ]
  },
  {
   "cell_type": "code",
   "execution_count": 143,
   "metadata": {},
   "outputs": [
    {
     "name": "stdout",
     "output_type": "stream",
     "text": [
      "1291774 1313174\n",
      "2677839\n"
     ]
    }
   ],
   "source": [
    "fler = data[particle][recos[0]][\"unique_id\"]\n",
    "ret = data[particle][recos[1]][\"unique_id\"]\n",
    "val = data[particle][recos[2]][\"unique_id\"]\n",
    "common_numbers3 = find_common_number3(fler,ret,val)\n",
    "print(len(common_numbers3),len(val))\n",
    "common_numbers2 = find_common_number2(fler,ret)\n",
    "print(len(common_numbers2))"
   ]
  },
  {
   "cell_type": "code",
   "execution_count": 150,
   "metadata": {},
   "outputs": [],
   "source": [
    "fler_indices = np.where(np.isin(fler,common_numbers3))[0]\n",
    "fler_mask = create_mask(fler,common_numbers3)"
   ]
  },
  {
   "cell_type": "code",
   "execution_count": null,
   "metadata": {},
   "outputs": [],
   "source": []
  }
 ],
 "metadata": {
  "kernelspec": {
   "display_name": "Python 3 (ipykernel)",
   "language": "python",
   "name": "python3"
  },
  "language_info": {
   "codemirror_mode": {
    "name": "ipython",
    "version": 3
   },
   "file_extension": ".py",
   "mimetype": "text/x-python",
   "name": "python",
   "nbconvert_exporter": "python",
   "pygments_lexer": "ipython3",
   "version": "3.8.18"
  }
 },
 "nbformat": 4,
 "nbformat_minor": 4
}
